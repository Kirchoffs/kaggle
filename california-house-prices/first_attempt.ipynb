{
 "cells": [
  {
   "cell_type": "code",
   "execution_count": null,
   "metadata": {
    "_cell_guid": "b1076dfc-b9ad-4769-8c92-a6c4dae69d19",
    "_uuid": "8f2839f25d086af736a60e9eeb907d3b93b6e0e5",
    "execution": {
     "iopub.execute_input": "2024-09-18T08:28:12.273657Z",
     "iopub.status.busy": "2024-09-18T08:28:12.273191Z",
     "iopub.status.idle": "2024-09-18T08:28:12.283357Z",
     "shell.execute_reply": "2024-09-18T08:28:12.282026Z",
     "shell.execute_reply.started": "2024-09-18T08:28:12.273622Z"
    }
   },
   "outputs": [],
   "source": [
    "import numpy as np\n",
    "import pandas as pd\n",
    "\n",
    "import os\n",
    "for dirname, _, filenames in os.walk('/kaggle/input'):\n",
    "    for filename in filenames:\n",
    "        print(os.path.join(dirname, filename))"
   ]
  },
  {
   "cell_type": "code",
   "execution_count": null,
   "metadata": {
    "execution": {
     "iopub.execute_input": "2024-09-18T08:28:12.285847Z",
     "iopub.status.busy": "2024-09-18T08:28:12.285495Z",
     "iopub.status.idle": "2024-09-18T08:28:12.291356Z",
     "shell.execute_reply": "2024-09-18T08:28:12.290150Z",
     "shell.execute_reply.started": "2024-09-18T08:28:12.285819Z"
    }
   },
   "outputs": [],
   "source": [
    "train_data_path = '/kaggle/input/california-house-prices/train.csv'\n",
    "test_data_path = '/kaggle/input/california-house-prices/test.csv'"
   ]
  },
  {
   "cell_type": "code",
   "execution_count": null,
   "metadata": {
    "execution": {
     "iopub.execute_input": "2024-09-18T08:28:12.293250Z",
     "iopub.status.busy": "2024-09-18T08:28:12.292886Z",
     "iopub.status.idle": "2024-09-18T08:28:13.814727Z",
     "shell.execute_reply": "2024-09-18T08:28:13.813210Z",
     "shell.execute_reply.started": "2024-09-18T08:28:12.293215Z"
    }
   },
   "outputs": [],
   "source": [
    "train_df = pd.read_csv(train_data_path)\n",
    "test_df = pd.read_csv(test_data_path)"
   ]
  },
  {
   "cell_type": "code",
   "execution_count": null,
   "metadata": {
    "execution": {
     "iopub.execute_input": "2024-09-18T08:28:13.818199Z",
     "iopub.status.busy": "2024-09-18T08:28:13.817736Z",
     "iopub.status.idle": "2024-09-18T08:28:13.860197Z",
     "shell.execute_reply": "2024-09-18T08:28:13.858483Z",
     "shell.execute_reply.started": "2024-09-18T08:28:13.818157Z"
    }
   },
   "outputs": [],
   "source": [
    "#\n",
    "# Drop columns\n",
    "# \n",
    "\n",
    "test_df_result = test_df[['Id']]\n",
    "columns = [\n",
    "    'Id', 'Address', 'Summary', 'Cooling', 'Heating features', 'Cooling features',\n",
    "    'Elementary School', 'Middle School', 'High School',\n",
    "    'Flooring', 'Appliances included', 'Laundry features', 'Parking features', 'State',\n",
    "    'Listed On', 'Last Sold On'\n",
    "]\n",
    "train_df = train_df.drop(columns = columns)\n",
    "test_df = test_df.drop(columns = columns, errors = 'ignore')"
   ]
  },
  {
   "cell_type": "code",
   "execution_count": null,
   "metadata": {
    "execution": {
     "iopub.execute_input": "2024-09-18T08:28:13.870278Z",
     "iopub.status.busy": "2024-09-18T08:28:13.869850Z",
     "iopub.status.idle": "2024-09-18T08:28:13.960592Z",
     "shell.execute_reply": "2024-09-18T08:28:13.959646Z",
     "shell.execute_reply.started": "2024-09-18T08:28:13.870241Z"
    }
   },
   "outputs": [],
   "source": [
    "#\n",
    "# Type\n",
    "#\n",
    "\n",
    "def process_type(df):\n",
    "    df.loc[df['Type'] == 'MultiFamily', 'Type'] = 'Townhouse'\n",
    "    df.loc[df['Type'] == 'Single Family', 'Type'] = 'SingleFamily'\n",
    "\n",
    "    valid_types = ['SingleFamily', 'Condo', 'Townhouse', 'MobileManufactured', 'VacantLand', 'Apartment']\n",
    "    df.loc[~df['Type'].isin(valid_types), 'Type'] = 'Others'\n",
    "    \n",
    "    df_encoded = pd.get_dummies(df, columns = ['Type'], drop_first = False, dtype = int)\n",
    "\n",
    "    return df_encoded\n",
    "\n",
    "train_df = process_type(train_df)\n",
    "test_df = process_type(test_df)"
   ]
  },
  {
   "cell_type": "code",
   "execution_count": null,
   "metadata": {
    "execution": {
     "iopub.execute_input": "2024-09-18T08:28:13.962272Z",
     "iopub.status.busy": "2024-09-18T08:28:13.961936Z",
     "iopub.status.idle": "2024-09-18T08:28:15.330023Z",
     "shell.execute_reply": "2024-09-18T08:28:15.328999Z",
     "shell.execute_reply.started": "2024-09-18T08:28:13.962244Z"
    }
   },
   "outputs": [],
   "source": [
    "#\n",
    "# Heating\n",
    "#\n",
    "\n",
    "def process_heating(df):\n",
    "    import re\n",
    "\n",
    "    keywords = {\n",
    "        'Air forced': r'Air\\s+Forced',\n",
    "        'Central': r'Central',\n",
    "        'Gas': r'Gas',\n",
    "        'Furnace': r'Furnace',\n",
    "        'Wall': r'Wall',\n",
    "        'Electric': r'Electric'\n",
    "    }\n",
    "\n",
    "    df['Heating'] = df['Heating'].fillna('')\n",
    "    for keyword in keywords:\n",
    "        df[keyword] = df['Heating'].apply(lambda x: 1 if re.search(keywords[keyword], x, flags = re.IGNORECASE) else 0)\n",
    "\n",
    "    df = df.drop(columns = ['Heating'])\n",
    "    \n",
    "    return df\n",
    "\n",
    "train_df = process_heating(train_df)\n",
    "test_df = process_heating(test_df)"
   ]
  },
  {
   "cell_type": "code",
   "execution_count": null,
   "metadata": {
    "execution": {
     "iopub.execute_input": "2024-09-18T08:32:28.620379Z",
     "iopub.status.busy": "2024-09-18T08:32:28.619947Z",
     "iopub.status.idle": "2024-09-18T08:32:29.627059Z",
     "shell.execute_reply": "2024-09-18T08:32:29.625306Z",
     "shell.execute_reply.started": "2024-09-18T08:32:28.620347Z"
    }
   },
   "outputs": [],
   "source": [
    "# \n",
    "# Parking\n",
    "#\n",
    "\n",
    "def process_parking(df):\n",
    "    df['Parking'] = df['Parking'].fillna('')\n",
    "    keywords = ['Attached', 'Detached', 'Covered', 'Carport', 'Driveway', 'Basement']\n",
    "    for keyword in keywords:\n",
    "        df[keyword] = df['Parking'].str.contains(keyword, case = False).astype(int)\n",
    "\n",
    "    df = df.drop(columns = ['Parking'])\n",
    "    \n",
    "    return df\n",
    "\n",
    "train_df = process_parking(train_df)\n",
    "test_df = process_parking(test_df)"
   ]
  },
  {
   "cell_type": "code",
   "execution_count": null,
   "metadata": {
    "execution": {
     "iopub.execute_input": "2024-09-18T08:32:56.017082Z",
     "iopub.status.busy": "2024-09-18T08:32:56.016660Z",
     "iopub.status.idle": "2024-09-18T08:32:56.028428Z",
     "shell.execute_reply": "2024-09-18T08:32:56.027348Z",
     "shell.execute_reply.started": "2024-09-18T08:32:56.017042Z"
    }
   },
   "outputs": [],
   "source": [
    "#\n",
    "# Bedrooms\n",
    "#\n",
    "\n",
    "def process_bedrooms(df):\n",
    "    df['Bedrooms'] = pd.to_numeric(df['Bedrooms'], errors = 'coerce')\n",
    "    df['Bedrooms'] = df['Bedrooms'].fillna(df['Bedrooms'].median())\n",
    "    return df\n",
    "\n",
    "train_df = process_bedrooms(train_df)\n",
    "test_df = process_bedrooms(test_df)"
   ]
  },
  {
   "cell_type": "code",
   "execution_count": null,
   "metadata": {
    "execution": {
     "iopub.execute_input": "2024-09-18T08:28:15.900871Z",
     "iopub.status.busy": "2024-09-18T08:28:15.900546Z",
     "iopub.status.idle": "2024-09-18T08:28:15.977248Z",
     "shell.execute_reply": "2024-09-18T08:28:15.976207Z",
     "shell.execute_reply.started": "2024-09-18T08:28:15.900843Z"
    }
   },
   "outputs": [],
   "source": [
    "#\n",
    "# Region, Zip, City\n",
    "#\n",
    "\n",
    "def target_encoding(train_df, test_df, target_column, categorical_columns):\n",
    "    for categorical_column in categorical_columns:        \n",
    "        target_median = train_df.groupby(categorical_column)[target_column].median()\n",
    "        overall_median = train_df[target_column].median()\n",
    "        \n",
    "        train_df[f'{categorical_column}_target'] = train_df[categorical_column].map(target_median)\n",
    "        train_df[f'{categorical_column}_target'] = train_df[f'{categorical_column}_target'].fillna(overall_median)\n",
    "\n",
    "        test_df[f'{categorical_column}_target'] = test_df[categorical_column].map(target_median)\n",
    "        test_df[f'{categorical_column}_target'] = test_df[f'{categorical_column}_target'].fillna(overall_median)\n",
    "        \n",
    "    train_df = train_df.drop(columns = categorical_columns)\n",
    "    test_df = test_df.drop(columns = categorical_columns)\n",
    "\n",
    "    return train_df, test_df\n",
    "\n",
    "train_df, test_df = target_encoding(train_df, test_df, 'Sold Price', ['Region', 'Zip', 'City'])"
   ]
  },
  {
   "cell_type": "code",
   "execution_count": null,
   "metadata": {
    "execution": {
     "iopub.execute_input": "2024-09-18T08:28:15.979026Z",
     "iopub.status.busy": "2024-09-18T08:28:15.978626Z",
     "iopub.status.idle": "2024-09-18T08:28:16.083170Z",
     "shell.execute_reply": "2024-09-18T08:28:16.082054Z",
     "shell.execute_reply.started": "2024-09-18T08:28:15.978991Z"
    }
   },
   "outputs": [],
   "source": [
    "#\n",
    "# Year built and other general numerical columns\n",
    "#\n",
    "\n",
    "def process_numerical_columns(df):\n",
    "    df = df.apply(lambda x: x.fillna(x.median()) if x.dtype.kind in 'biufc' else x)\n",
    "    return df\n",
    "\n",
    "train_df = process_numerical_columns(train_df)\n",
    "test_df = process_numerical_columns(test_df)"
   ]
  },
  {
   "cell_type": "code",
   "execution_count": null,
   "metadata": {
    "execution": {
     "iopub.execute_input": "2024-09-18T08:28:16.084700Z",
     "iopub.status.busy": "2024-09-18T08:28:16.084352Z",
     "iopub.status.idle": "2024-09-18T08:28:16.095803Z",
     "shell.execute_reply": "2024-09-18T08:28:16.094744Z",
     "shell.execute_reply.started": "2024-09-18T08:28:16.084672Z"
    }
   },
   "outputs": [],
   "source": [
    "#\n",
    "# Check for NaNs\n",
    "#\n",
    "\n",
    "print(\"NaNs in train_df:\", train_df.isna().sum().sum())\n",
    "print(\"NaNs in test_df:\", test_df.isna().sum().sum())"
   ]
  },
  {
   "cell_type": "code",
   "execution_count": null,
   "metadata": {
    "execution": {
     "iopub.execute_input": "2024-09-18T08:28:16.097794Z",
     "iopub.status.busy": "2024-09-18T08:28:16.097333Z",
     "iopub.status.idle": "2024-09-18T08:28:16.110811Z",
     "shell.execute_reply": "2024-09-18T08:28:16.109472Z",
     "shell.execute_reply.started": "2024-09-18T08:28:16.097764Z"
    }
   },
   "outputs": [],
   "source": [
    "y = train_df['Sold Price']\n",
    "X = train_df.drop(columns = 'Sold Price')\n",
    "\n",
    "X.select_dtypes(exclude = ['number']).columns"
   ]
  },
  {
   "cell_type": "code",
   "execution_count": null,
   "metadata": {
    "execution": {
     "iopub.execute_input": "2024-09-18T08:28:16.113121Z",
     "iopub.status.busy": "2024-09-18T08:28:16.112797Z",
     "iopub.status.idle": "2024-09-18T08:28:16.144775Z",
     "shell.execute_reply": "2024-09-18T08:28:16.143677Z",
     "shell.execute_reply.started": "2024-09-18T08:28:16.113094Z"
    }
   },
   "outputs": [],
   "source": [
    "X.head(5)"
   ]
  },
  {
   "cell_type": "code",
   "execution_count": null,
   "metadata": {
    "execution": {
     "iopub.execute_input": "2024-09-18T08:28:16.146505Z",
     "iopub.status.busy": "2024-09-18T08:28:16.146054Z",
     "iopub.status.idle": "2024-09-18T08:28:16.156591Z",
     "shell.execute_reply": "2024-09-18T08:28:16.155448Z",
     "shell.execute_reply.started": "2024-09-18T08:28:16.146468Z"
    }
   },
   "outputs": [],
   "source": [
    "y.head(5)"
   ]
  },
  {
   "cell_type": "code",
   "execution_count": null,
   "metadata": {
    "execution": {
     "iopub.execute_input": "2024-09-18T08:28:16.158652Z",
     "iopub.status.busy": "2024-09-18T08:28:16.158119Z",
     "iopub.status.idle": "2024-09-18T08:28:16.369749Z",
     "shell.execute_reply": "2024-09-18T08:28:16.368590Z",
     "shell.execute_reply.started": "2024-09-18T08:28:16.158621Z"
    }
   },
   "outputs": [],
   "source": [
    "from sklearn.model_selection import train_test_split\n",
    "from sklearn.preprocessing import StandardScaler, MinMaxScaler\n",
    "import torch\n",
    "import torch.nn as nn\n",
    "import torch.optim as optim\n",
    "from torch.utils.data import DataLoader, TensorDataset\n",
    "\n",
    "X_lower_bound = np.percentile(X, 1, axis = 0)\n",
    "X_upper_bound = np.percentile(X, 99, axis = 0)\n",
    "X_clipped = np.clip(X, X_lower_bound, X_upper_bound)\n",
    "X_scaler = MinMaxScaler()\n",
    "X_scaled = X_scaler.fit_transform(X_clipped)\n",
    "\n",
    "y_lower_bound = np.percentile(y, 1)\n",
    "y_upper_bound = np.percentile(y, 99)\n",
    "y_clipped = np.clip(y, y_lower_bound, y_upper_bound).values.reshape(-1, 1)\n",
    "y_scaler = MinMaxScaler()\n",
    "y_scaled = y_scaler.fit_transform(y_clipped)\n",
    "\n",
    "X_tensor = torch.tensor(X_scaled, dtype = torch.float32)\n",
    "y_tensor = torch.tensor(y_scaled, dtype = torch.float32)\n",
    "\n",
    "X_train, X_test, y_train, y_test = train_test_split(X_tensor, y_tensor, test_size = 0.2, random_state = 42)\n",
    "\n",
    "train_dataset = TensorDataset(X_train, y_train)\n",
    "train_loader = DataLoader(train_dataset, batch_size = 128, shuffle = True)"
   ]
  },
  {
   "cell_type": "code",
   "execution_count": null,
   "metadata": {
    "execution": {
     "iopub.execute_input": "2024-09-18T08:28:16.372030Z",
     "iopub.status.busy": "2024-09-18T08:28:16.371275Z",
     "iopub.status.idle": "2024-09-18T08:28:16.385057Z",
     "shell.execute_reply": "2024-09-18T08:28:16.383929Z",
     "shell.execute_reply.started": "2024-09-18T08:28:16.371999Z"
    }
   },
   "outputs": [],
   "source": [
    "assert not torch.isnan(X_tensor).any(), \"NaNs found in X_tensor\"\n",
    "assert not torch.isinf(X_tensor).any(), \"Infs found in X_tensor\"\n",
    "assert not torch.isnan(y_tensor).any(), \"NaNs found in y_tensor\"\n",
    "assert not torch.isinf(y_tensor).any(), \"Infs found in y_tensor\""
   ]
  },
  {
   "cell_type": "code",
   "execution_count": null,
   "metadata": {
    "execution": {
     "iopub.execute_input": "2024-09-18T08:28:16.386771Z",
     "iopub.status.busy": "2024-09-18T08:28:16.386434Z",
     "iopub.status.idle": "2024-09-18T08:28:16.395371Z",
     "shell.execute_reply": "2024-09-18T08:28:16.394272Z",
     "shell.execute_reply.started": "2024-09-18T08:28:16.386743Z"
    }
   },
   "outputs": [],
   "source": [
    "class HousePriceModel(nn.Module):\n",
    "    def __init__(self, in_features_size):\n",
    "        super(HousePriceModel, self).__init__()\n",
    "        self.fc1 = nn.Linear(in_features = in_features_size, out_features = 128)\n",
    "        self.fc2 = nn.Linear(in_features = 128, out_features = 64)\n",
    "        self.fc3 = nn.Linear(in_features = 64, out_features = 32)\n",
    "        self.fc4 = nn.Linear(in_features = 32, out_features = 1)\n",
    "\n",
    "    def forward(self, x):\n",
    "        x = torch.relu(self.fc1(x))\n",
    "        x = torch.relu(self.fc2(x))\n",
    "        x = torch.relu(self.fc3(x))\n",
    "        x = self.fc4(x)\n",
    "        return x"
   ]
  },
  {
   "cell_type": "code",
   "execution_count": null,
   "metadata": {
    "execution": {
     "iopub.execute_input": "2024-09-18T08:28:16.397582Z",
     "iopub.status.busy": "2024-09-18T08:28:16.396872Z",
     "iopub.status.idle": "2024-09-18T08:29:36.877964Z",
     "shell.execute_reply": "2024-09-18T08:29:36.876816Z",
     "shell.execute_reply.started": "2024-09-18T08:28:16.397553Z"
    }
   },
   "outputs": [],
   "source": [
    "model = HousePriceModel(X_tensor.shape[1])\n",
    "criterion = nn.MSELoss()\n",
    "optimizer = optim.Adam(model.parameters(), lr = 0.000001)\n",
    "\n",
    "num_epochs = 100\n",
    "for epoch in range(num_epochs):\n",
    "    model.train()\n",
    "    for batch_X, batch_y in train_loader:\n",
    "        optimizer.zero_grad()\n",
    "        outputs = model(batch_X)\n",
    "        loss = criterion(outputs.squeeze(), batch_y.squeeze())\n",
    "        loss.backward()\n",
    "        optimizer.step()\n",
    "    \n",
    "    if (epoch + 1) % 10 == 0:\n",
    "        print(f'Epoch [{epoch + 1}/{num_epochs}], Loss: {loss.item():.4f}')"
   ]
  },
  {
   "cell_type": "code",
   "execution_count": null,
   "metadata": {
    "execution": {
     "iopub.execute_input": "2024-09-18T08:29:36.880148Z",
     "iopub.status.busy": "2024-09-18T08:29:36.879502Z",
     "iopub.status.idle": "2024-09-18T08:29:36.892539Z",
     "shell.execute_reply": "2024-09-18T08:29:36.891414Z",
     "shell.execute_reply.started": "2024-09-18T08:29:36.880111Z"
    }
   },
   "outputs": [],
   "source": [
    "model.eval()\n",
    "with torch.no_grad():\n",
    "    test_outputs = model(X_test)\n",
    "    test_loss = criterion(test_outputs, y_test)\n",
    "    print(f'Test Loss: {test_loss.item():.4f}')"
   ]
  },
  {
   "cell_type": "code",
   "execution_count": null,
   "metadata": {
    "execution": {
     "iopub.execute_input": "2024-09-18T08:29:36.894794Z",
     "iopub.status.busy": "2024-09-18T08:29:36.894008Z",
     "iopub.status.idle": "2024-09-18T08:29:37.016199Z",
     "shell.execute_reply": "2024-09-18T08:29:37.014999Z",
     "shell.execute_reply.started": "2024-09-18T08:29:36.894737Z"
    }
   },
   "outputs": [],
   "source": [
    "predict_X = test_df\n",
    "predict_X_scaled = X_scaler.transform(predict_X)\n",
    "predict_X_tensor = torch.tensor(predict_X_scaled, dtype = torch.float32)\n",
    "\n",
    "predict_y = model(predict_X_tensor)\n",
    "predict_y = y_scaler.inverse_transform(predict_y.detach().numpy())\n",
    "\n",
    "test_df_result['Sold Price'] = predict_y\n",
    "test_df_result.to_csv('submission.csv', index = False)"
   ]
  }
 ],
 "metadata": {
  "kaggle": {
   "accelerator": "none",
   "dataSources": [
    {
     "databundleVersionId": 2079920,
     "sourceId": 26688,
     "sourceType": "competition"
    }
   ],
   "dockerImageVersionId": 30732,
   "isGpuEnabled": false,
   "isInternetEnabled": false,
   "language": "python",
   "sourceType": "notebook"
  },
  "kernelspec": {
   "display_name": "Python 3",
   "language": "python",
   "name": "python3"
  },
  "language_info": {
   "codemirror_mode": {
    "name": "ipython",
    "version": 3
   },
   "file_extension": ".py",
   "mimetype": "text/x-python",
   "name": "python",
   "nbconvert_exporter": "python",
   "pygments_lexer": "ipython3",
   "version": "3.10.13"
  }
 },
 "nbformat": 4,
 "nbformat_minor": 4
}
